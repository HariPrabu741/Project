{
  "nbformat": 4,
  "nbformat_minor": 0,
  "metadata": {
    "colab": {
      "name": "Chest x-ray Type A.ipynb",
      "provenance": [],
      "collapsed_sections": [],
      "authorship_tag": "ABX9TyPG+YZ8XylHHv0fC5lUDrCb",
      "include_colab_link": true
    },
    "kernelspec": {
      "name": "python3",
      "display_name": "Python 3"
    },
    "language_info": {
      "name": "python"
    },
    "accelerator": "GPU"
  },
  "cells": [
    {
      "cell_type": "markdown",
      "metadata": {
        "id": "view-in-github",
        "colab_type": "text"
      },
      "source": [
        "<a href=\"https://colab.research.google.com/github/HariPrabu741/Project/blob/main/Chest_x_ray_Type_A.ipynb\" target=\"_parent\"><img src=\"https://colab.research.google.com/assets/colab-badge.svg\" alt=\"Open In Colab\"/></a>"
      ]
    },
    {
      "cell_type": "code",
      "metadata": {
        "colab": {
          "base_uri": "https://localhost:8080/"
        },
        "id": "mD4xg-ZMQwC_",
        "outputId": "0da3a290-ea9a-43c5-90c8-13f0f2e7598d"
      },
      "source": [
        "# Install kaggle\n",
        "!pip install kaggle"
      ],
      "execution_count": 2,
      "outputs": [
        {
          "output_type": "stream",
          "name": "stdout",
          "text": [
            "Requirement already satisfied: kaggle in /usr/local/lib/python3.7/dist-packages (1.5.12)\n",
            "Requirement already satisfied: python-slugify in /usr/local/lib/python3.7/dist-packages (from kaggle) (5.0.2)\n",
            "Requirement already satisfied: requests in /usr/local/lib/python3.7/dist-packages (from kaggle) (2.23.0)\n",
            "Requirement already satisfied: certifi in /usr/local/lib/python3.7/dist-packages (from kaggle) (2021.5.30)\n",
            "Requirement already satisfied: six>=1.10 in /usr/local/lib/python3.7/dist-packages (from kaggle) (1.15.0)\n",
            "Requirement already satisfied: urllib3 in /usr/local/lib/python3.7/dist-packages (from kaggle) (1.24.3)\n",
            "Requirement already satisfied: python-dateutil in /usr/local/lib/python3.7/dist-packages (from kaggle) (2.8.2)\n",
            "Requirement already satisfied: tqdm in /usr/local/lib/python3.7/dist-packages (from kaggle) (4.62.0)\n",
            "Requirement already satisfied: text-unidecode>=1.3 in /usr/local/lib/python3.7/dist-packages (from python-slugify->kaggle) (1.3)\n",
            "Requirement already satisfied: idna<3,>=2.5 in /usr/local/lib/python3.7/dist-packages (from requests->kaggle) (2.10)\n",
            "Requirement already satisfied: chardet<4,>=3.0.2 in /usr/local/lib/python3.7/dist-packages (from requests->kaggle) (3.0.4)\n"
          ]
        }
      ]
    },
    {
      "cell_type": "code",
      "metadata": {
        "id": "ay1amvufQG4s"
      },
      "source": [
        "from google.colab import files"
      ],
      "execution_count": 3,
      "outputs": []
    },
    {
      "cell_type": "code",
      "metadata": {
        "colab": {
          "resources": {
            "http://localhost:8080/nbextensions/google.colab/files.js": {
              "data": "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",
              "ok": true,
              "headers": [
                [
                  "content-type",
                  "application/javascript"
                ]
              ],
              "status": 200,
              "status_text": "OK"
            }
          },
          "base_uri": "https://localhost:8080/",
          "height": 90
        },
        "id": "nuF_adm8Qdbk",
        "outputId": "ba3236af-af92-4781-99da-0047f3bda904"
      },
      "source": [
        "# Uploading json file\n",
        "files.upload()"
      ],
      "execution_count": 4,
      "outputs": [
        {
          "output_type": "display_data",
          "data": {
            "text/html": [
              "\n",
              "     <input type=\"file\" id=\"files-87380e05-8608-45b5-a458-3a3a64826718\" name=\"files[]\" multiple disabled\n",
              "        style=\"border:none\" />\n",
              "     <output id=\"result-87380e05-8608-45b5-a458-3a3a64826718\">\n",
              "      Upload widget is only available when the cell has been executed in the\n",
              "      current browser session. Please rerun this cell to enable.\n",
              "      </output>\n",
              "      <script src=\"/nbextensions/google.colab/files.js\"></script> "
            ],
            "text/plain": [
              "<IPython.core.display.HTML object>"
            ]
          },
          "metadata": {}
        },
        {
          "output_type": "stream",
          "name": "stdout",
          "text": [
            "Saving kaggle.json to kaggle.json\n"
          ]
        },
        {
          "output_type": "execute_result",
          "data": {
            "text/plain": [
              "{'kaggle.json': b'{\"username\":\"hariprabu\",\"key\":\"bb3af12feb4c1e923a55d9df2eefee60\"}'}"
            ]
          },
          "metadata": {},
          "execution_count": 4
        }
      ]
    },
    {
      "cell_type": "code",
      "metadata": {
        "id": "CE1dbRomQgxA"
      },
      "source": [
        "# Creating kaggle folder\n",
        "!mkdir -p ~/.kaggle"
      ],
      "execution_count": 5,
      "outputs": []
    },
    {
      "cell_type": "code",
      "metadata": {
        "id": "TjSWud4RRFfi"
      },
      "source": [
        "# Copying kaggle json file to kaggle folder \n",
        "!cp kaggle.json ~/.kaggle/"
      ],
      "execution_count": 6,
      "outputs": []
    },
    {
      "cell_type": "code",
      "metadata": {
        "id": "56kRmXC7RTQq"
      },
      "source": [
        "# Permission for json to activate\n",
        "!chmod 600 ~/.kaggle/kaggle.json"
      ],
      "execution_count": 7,
      "outputs": []
    },
    {
      "cell_type": "code",
      "metadata": {
        "colab": {
          "base_uri": "https://localhost:8080/"
        },
        "id": "YNcJiB_IRf-a",
        "outputId": "a19a72b6-e10d-451c-dba8-5460d44ee81e"
      },
      "source": [
        "# Paste the copyed api comment of dataset from kaggle\n",
        "!kaggle datasets download -d paultimothymooney/chest-xray-pneumonia"
      ],
      "execution_count": 8,
      "outputs": [
        {
          "output_type": "stream",
          "name": "stdout",
          "text": [
            "Downloading chest-xray-pneumonia.zip to /content\n",
            "100% 2.29G/2.29G [00:28<00:00, 47.5MB/s]\n",
            "100% 2.29G/2.29G [00:28<00:00, 85.5MB/s]\n"
          ]
        }
      ]
    },
    {
      "cell_type": "code",
      "metadata": {
        "id": "PHQ6FYNJRucx"
      },
      "source": [
        "# Unzip the zip file\n",
        "!unzip -q '/content/chest-xray-pneumonia.zip'"
      ],
      "execution_count": 9,
      "outputs": []
    },
    {
      "cell_type": "code",
      "metadata": {
        "id": "k9ZE1p_6a_C1"
      },
      "source": [
        "# Import packages\n",
        "import tensorflow as tf\n",
        "import pandas as pd\n",
        "import numpy as np\n",
        "import matplotlib.pyplot as plt\n",
        "from pathlib import Path"
      ],
      "execution_count": 10,
      "outputs": []
    },
    {
      "cell_type": "code",
      "metadata": {
        "id": "AQw7wNtzdRAc"
      },
      "source": [
        "# Creating path for all data\n",
        "train_path=Path(\"/content/chest_xray/train\")\n",
        "test_path=Path(\"/content/chest_xray/test\")\n",
        "val_path=Path(\"/content/chest_xray/val\")"
      ],
      "execution_count": 20,
      "outputs": []
    },
    {
      "cell_type": "code",
      "metadata": {
        "id": "qugpYOV9dy5G",
        "colab": {
          "base_uri": "https://localhost:8080/"
        },
        "outputId": "8d304ae6-4a31-43d4-c7f6-9cdf684bdc87"
      },
      "source": [
        "# Collecting all the path inside 'NORMAL' and 'PNEUMONIA'\n",
        "train_img_path=train_path.glob(\"*/*\")\n",
        "val_img_path=val_path.glob(\"*/*\")\n",
        "\n",
        "print(train_img_path)  # Output of glob always be generator object so we have to convert it to list"
      ],
      "execution_count": 21,
      "outputs": [
        {
          "output_type": "stream",
          "name": "stdout",
          "text": [
            "<generator object Path.glob at 0x7fee1f31cf50>\n"
          ]
        }
      ]
    },
    {
      "cell_type": "code",
      "metadata": {
        "id": "O9q2-VJSf_mh",
        "colab": {
          "base_uri": "https://localhost:8080/"
        },
        "outputId": "9ebe036c-294c-4438-e923-a29ce46c7075"
      },
      "source": [
        "# Created list to access img path\n",
        "train_img_path=list(train_img_path)\n",
        "val_img_path=list(val_img_path)\n",
        "\n",
        "print(train_img_path[:2])  # output is in posixpath. Need to convert posixpath to string."
      ],
      "execution_count": 22,
      "outputs": [
        {
          "output_type": "stream",
          "name": "stdout",
          "text": [
            "[PosixPath('/content/chest_xray/train/NORMAL/IM-0546-0001.jpeg'), PosixPath('/content/chest_xray/train/NORMAL/IM-0637-0001.jpeg')]\n"
          ]
        }
      ]
    },
    {
      "cell_type": "code",
      "metadata": {
        "id": "36slorkgoqkw",
        "colab": {
          "base_uri": "https://localhost:8080/"
        },
        "outputId": "4cb0ae58-0f2c-4c5b-fcde-21eae7596fd7"
      },
      "source": [
        "# Convert posix path to normal path(str)\n",
        "train_img_path=list(map(lambda x:str(x), train_img_path))\n",
        "val_img_path=list(map(lambda x:str(x),val_img_path))\n",
        "\n",
        "print(train_img_path[:2])"
      ],
      "execution_count": 23,
      "outputs": [
        {
          "output_type": "stream",
          "name": "stdout",
          "text": [
            "['/content/chest_xray/train/NORMAL/IM-0546-0001.jpeg', '/content/chest_xray/train/NORMAL/IM-0637-0001.jpeg']\n"
          ]
        }
      ]
    },
    {
      "cell_type": "code",
      "metadata": {
        "id": "YRMOPmFmqeEc",
        "colab": {
          "base_uri": "https://localhost:8080/"
        },
        "outputId": "4a217774-f672-421a-b3b0-e3b37efad16c"
      },
      "source": [
        "# Collecting length for train & val data\n",
        "train_len=len(train_img_path)\n",
        "val_len=len(val_img_path)\n",
        "\n",
        "print(\"train_len :\",train_len,'\\n'\"val_len :\",val_len)"
      ],
      "execution_count": 24,
      "outputs": [
        {
          "output_type": "stream",
          "name": "stdout",
          "text": [
            "train_len : 5216 \n",
            "val_len : 16\n"
          ]
        }
      ]
    },
    {
      "cell_type": "code",
      "metadata": {
        "id": "cweR2LNqGAPA"
      },
      "source": [
        "# Every path has its label name... so creating label and inverse label\n",
        "\n",
        "label={'NORMAL':0,'PNEUMONIA':1}\n",
        "inv_label={0:'NORMAL',1:'PNEUMONIA'}"
      ],
      "execution_count": 25,
      "outputs": []
    },
    {
      "cell_type": "code",
      "metadata": {
        "colab": {
          "base_uri": "https://localhost:8080/"
        },
        "id": "4j--Fn9RKg1R",
        "outputId": "f744b4b8-0805-4504-fa83-b156fd9cf4c5"
      },
      "source": [
        "# Creating labels for train and validation by function and lambda\n",
        "\n",
        "def get_label(path):\n",
        "  return label[path.split('/')[-2]]    #It will return only the -2 index (normal[0] or pneumonia[1])\n",
        "\n",
        "train_label=list(map(lambda x : get_label(x), train_img_path))\n",
        "val_label=list(map(lambda x : get_label(x), val_img_path))\n",
        "\n",
        "print(train_label[0:3])"
      ],
      "execution_count": 26,
      "outputs": [
        {
          "output_type": "stream",
          "name": "stdout",
          "text": [
            "[0, 0, 0]\n"
          ]
        }
      ]
    },
    {
      "cell_type": "markdown",
      "metadata": {
        "id": "ecjFZhU2XRf8"
      },
      "source": [
        "## Data Augmentation by tensorflow data object"
      ]
    },
    {
      "cell_type": "code",
      "metadata": {
        "id": "fHsLcnGmLzQP"
      },
      "source": [
        "# Function used for transformation and data augmentation\n",
        "\n",
        "def load_and_transform(image, label, train=True):\n",
        "  image=tf.io.read_file(image)                                   #1.read the image\n",
        "  image=tf.io.decode_jpeg(image,channels=3)                      #2.then decode the image type\n",
        "  image=tf.image.resize(image, [224,224], method=\"nearest\")      #3.resize the image\n",
        "  if train:\n",
        "    image=tf.image.random_flip_left_right(image)                 #4.data augmentation(here only 1 aug... is used)\n",
        "  return image,label"
      ],
      "execution_count": 19,
      "outputs": []
    },
    {
      "cell_type": "code",
      "metadata": {
        "id": "mQqPVEhJMJIG"
      },
      "source": [
        "# Function used to create tensorflow data object\n",
        "\n",
        "def get_dataset(path, label, train=True):\n",
        "  image_path=tf.convert_to_tensor(path)                                       #1.Converting path to tensor(o/p--str)\n",
        "  label=tf.convert_to_tensor(label)                                           #1.Converting label to tensor\n",
        "  image_dataset=tf.data.Dataset.from_tensor_slices(image_path)                #2.slicing tensors to dataset\n",
        "  label_dataset=tf.data.Dataset.from_tensor_slices(label)                     #2.slicing tensors to dataset\n",
        "\n",
        "  dataset=tf.data.Dataset.zip((image_dataset, label_dataset)).shuffle(1000)   #3.combining path and labels with shuffle\n",
        "  dataset=dataset.map(lambda image,label : load_and_transform(image,label))\n",
        "  dataset=dataset.repeat()\n",
        "  dataset=dataset.shuffle(1000)\n",
        "  dataset=dataset.batch(32)                                                   #4.creating batch size for dataset\n",
        "\n",
        "  return dataset\n",
        "\n"
      ],
      "execution_count": 43,
      "outputs": []
    },
    {
      "cell_type": "code",
      "metadata": {
        "colab": {
          "base_uri": "https://localhost:8080/",
          "height": 319
        },
        "id": "gaUxYXDAbTDk",
        "outputId": "06f73041-82cc-4fbe-8750-49eb58a92737"
      },
      "source": [
        "# Creating train dataset object and verifying it\n",
        "\n",
        "train_dataset=get_dataset(train_img_path, train_label)       #1.creating training dataset\n",
        "\n",
        "image,label=next(iter(train_dataset))                        #2.next(iter())----it is the important step for verification   \n",
        "print(image.shape)\n",
        "print(label.shape)\n",
        "\n",
        "plt.imshow(image[0].numpy().reshape(224,224,3))"
      ],
      "execution_count": 45,
      "outputs": [
        {
          "output_type": "stream",
          "name": "stdout",
          "text": [
            "(32, 224, 224, 3)\n",
            "(32,)\n"
          ]
        },
        {
          "output_type": "execute_result",
          "data": {
            "text/plain": [
              "<matplotlib.image.AxesImage at 0x7f8706a07710>"
            ]
          },
          "metadata": {},
          "execution_count": 45
        },
        {
          "output_type": "display_data",
          "data": {
            "image/png": "[encoded data removed]",
            "text/plain": [
              "<Figure size 432x288 with 1 Axes>"
            ]
          },
          "metadata": {
            "needs_background": "light"
          }
        }
      ]
    },
    {
      "cell_type": "code",
      "metadata": {
        "colab": {
          "base_uri": "https://localhost:8080/",
          "height": 35
        },
        "id": "ppbc66JjkHaM",
        "outputId": "fde37755-0c38-4d59-ae75-b0a542e5b3b6"
      },
      "source": [
        "inv_label[label[0].numpy()]"
      ],
      "execution_count": 58,
      "outputs": [
        {
          "output_type": "execute_result",
          "data": {
            "application/vnd.google.colaboratory.intrinsic+json": {
              "type": "string"
            },
            "text/plain": [
              "'NORMAL'"
            ]
          },
          "metadata": {},
          "execution_count": 58
        }
      ]
    },
    {
      "cell_type": "code",
      "metadata": {
        "colab": {
          "base_uri": "https://localhost:8080/",
          "height": 336
        },
        "id": "A5ArUdURlwH8",
        "outputId": "96f29b61-98bb-40c1-b922-18fdaa2aa7e5"
      },
      "source": [
        "# Creating val... data object and verifying it\n",
        "\n",
        "val_dataset=get_dataset(val_img_path,val_label)          #1.creating validation dataset\n",
        "image, label= next(iter(val_dataset))                    #2.important step for verification\n",
        "print(image.shape)\n",
        "print(label.shape)\n",
        "print(inv_label[label[15].numpy()])\n",
        "plt.imshow(image[15].numpy().reshape(224,224,3))"
      ],
      "execution_count": 51,
      "outputs": [
        {
          "output_type": "stream",
          "name": "stdout",
          "text": [
            "(32, 224, 224, 3)\n",
            "(32,)\n",
            "PNEUMONIA\n"
          ]
        },
        {
          "output_type": "execute_result",
          "data": {
            "text/plain": [
              "<matplotlib.image.AxesImage at 0x7f87043a1490>"
            ]
          },
          "metadata": {},
          "execution_count": 51
        },
        {
          "output_type": "display_data",
          "data": {
            "image/png": "[encoded data removed]",
            "text/plain": [
              "<Figure size 432x288 with 1 Axes>"
            ]
          },
          "metadata": {
            "needs_background": "light"
          }
        }
      ]
    },
    {
      "cell_type": "code",
      "metadata": {
        "id": "3J-fGYK26TUY"
      },
      "source": [
        ""
      ],
      "execution_count": null,
      "outputs": []
    },
    {
      "cell_type": "markdown",
      "metadata": {
        "id": "A-MQQ2HpyyZR"
      },
      "source": [
        "Here we are not goint to create the model with simple convolution network--- instead we use ResNet.\n",
        "\n",
        "Issues using plain conv. network :--\n",
        "\n",
        "(i) Adding more layers can lead to more complex like overfitting. \n",
        "\n",
        "(ii) Deeper network might face an issue backpropagating the gradiants. This issue is called as vanishing gradiant problem.\n",
        "\n",
        "Solutions :--\n",
        "\n",
        "(i) Overfitting can be handled by using regularization and dropout where we deactivate few random neurons.\n",
        "\n",
        "(ii) 'Vanishing gradiant' problem can be handeled by relu activation which maximize the gradient flow as well as batchnormalization can be used. \n",
        "\n",
        "\n",
        "If we use ResNet the validation error can be reduced."
      ]
    },
    {
      "cell_type": "code",
      "metadata": {
        "id": "3U2aCh36B8ko"
      },
      "source": [
        ""
      ],
      "execution_count": null,
      "outputs": []
    },
    {
      "cell_type": "code",
      "metadata": {
        "id": "WHMLGMAF8eHe"
      },
      "source": [
        "# Building ResNet50 model\n",
        "from tensorflow.keras.applications import ResNet50V2"
      ],
      "execution_count": 64,
      "outputs": []
    },
    {
      "cell_type": "code",
      "metadata": {
        "colab": {
          "base_uri": "https://localhost:8080/"
        },
        "id": "u1YNwnXTtBWp",
        "outputId": "c9c64d3d-3976-49f0-d934-521d9efe443b"
      },
      "source": [
        "api=ResNet50V2(include_top=False, input_shape=(224,224,3))"
      ],
      "execution_count": 65,
      "outputs": [
        {
          "output_type": "stream",
          "name": "stdout",
          "text": [
            "Downloading data from https://storage.googleapis.com/tensorflow/keras-applications/resnet/resnet50v2_weights_tf_dim_ordering_tf_kernels_notop.h5\n",
            "94674944/94668760 [==============================] - 3s 0us/step\n",
            "94683136/94668760 [==============================] - 3s 0us/step\n"
          ]
        }
      ]
    },
    {
      "cell_type": "code",
      "metadata": {
        "colab": {
          "base_uri": "https://localhost:8080/"
        },
        "id": "Te90fQzx-erc",
        "outputId": "5490f6df-c181-49a1-8129-bf13cefc5947"
      },
      "source": [
        "model = tf.keras.Sequential([api, tf.keras.layers.GlobalAveragePooling2D(), \n",
        "                             tf.keras.layers.Dense(1, activation='sigmoid')])\n",
        "model.summary()"
      ],
      "execution_count": 66,
      "outputs": [
        {
          "output_type": "stream",
          "name": "stdout",
          "text": [
            "Model: \"sequential\"\n",
            "_________________________________________________________________\n",
            "Layer (type)                 Output Shape              Param #   \n",
            "=================================================================\n",
            "resnet50v2 (Functional)      (None, 7, 7, 2048)        23564800  \n",
            "_________________________________________________________________\n",
            "global_average_pooling2d (Gl (None, 2048)              0         \n",
            "_________________________________________________________________\n",
            "dense (Dense)                (None, 1)                 2049      \n",
            "=================================================================\n",
            "Total params: 23,566,849\n",
            "Trainable params: 23,521,409\n",
            "Non-trainable params: 45,440\n",
            "_________________________________________________________________\n"
          ]
        }
      ]
    },
    {
      "cell_type": "code",
      "metadata": {
        "id": "w4BV8gWE_ScR"
      },
      "source": [
        "#Compiling model\n",
        "model.compile(optimizer=tf.keras.optimizers.Adam(),\n",
        "              loss='binary_crossentropy',\n",
        "              metrics=['accuracy'])"
      ],
      "execution_count": 67,
      "outputs": []
    },
    {
      "cell_type": "markdown",
      "metadata": {
        "id": "y24xtER5CfZ6"
      },
      "source": [
        "CallBacks\n",
        "\n",
        "\n",
        "Earlystopping callback can be used to stop the training process before model tries to overlearn.\n",
        "\n",
        "Modelcheckpoint callback will save only the best model or its weight at perticular frequency."
      ]
    },
    {
      "cell_type": "code",
      "metadata": {
        "id": "aN60XR7qBOj3"
      },
      "source": [
        "from tensorflow.python.ops.gen_io_ops import save\n",
        "# Creating callbacks\n",
        "\n",
        "checkpoints=tf.keras.callbacks.ModelCheckpoint(\"pneumonia_best_weight.h5\",monitor='loss', verbose=1,save_best_only=True,save_weights_only=True)\n",
        "early_stop=tf.keras.callbacks.EarlyStopping(monitor='loss', patience=5)"
      ],
      "execution_count": 75,
      "outputs": []
    },
    {
      "cell_type": "code",
      "metadata": {
        "colab": {
          "base_uri": "https://localhost:8080/"
        },
        "id": "gOS_txwrGBM1",
        "outputId": "f7cd7639-2b2f-4603-a0fd-05f1722e40dd"
      },
      "source": [
        "# Training the model\n",
        "history=model.fit(train_dataset,\n",
        "                  steps_per_epoch=train_len//32,\n",
        "                  epochs=20,\n",
        "                  callbacks=[checkpoints,early_stop],\n",
        "                  validation_data=val_dataset,\n",
        "                  validation_steps=val_len//32)"
      ],
      "execution_count": 76,
      "outputs": [
        {
          "output_type": "stream",
          "name": "stdout",
          "text": [
            "Epoch 1/20\n",
            "163/163 [==============================] - 145s 805ms/step - loss: 0.1044 - accuracy: 0.9653\n",
            "\n",
            "Epoch 00001: loss improved from inf to 0.10439, saving model to pneumonia_best_weight.h5\n",
            "Epoch 2/20\n",
            "163/163 [==============================] - 134s 823ms/step - loss: 0.0528 - accuracy: 0.9799\n",
            "\n",
            "Epoch 00002: loss improved from 0.10439 to 0.05283, saving model to pneumonia_best_weight.h5\n",
            "Epoch 3/20\n",
            "163/163 [==============================] - 135s 826ms/step - loss: 0.0550 - accuracy: 0.9804\n",
            "\n",
            "Epoch 00003: loss did not improve from 0.05283\n",
            "Epoch 4/20\n",
            "163/163 [==============================] - 136s 832ms/step - loss: 0.0579 - accuracy: 0.9774\n",
            "\n",
            "Epoch 00004: loss did not improve from 0.05283\n",
            "Epoch 5/20\n",
            "163/163 [==============================] - 136s 831ms/step - loss: 0.0544 - accuracy: 0.9803\n",
            "\n",
            "Epoch 00005: loss did not improve from 0.05283\n",
            "Epoch 6/20\n",
            "163/163 [==============================] - 136s 833ms/step - loss: 0.0437 - accuracy: 0.9826\n",
            "\n",
            "Epoch 00006: loss improved from 0.05283 to 0.04366, saving model to pneumonia_best_weight.h5\n",
            "Epoch 7/20\n",
            "163/163 [==============================] - 136s 836ms/step - loss: 0.0342 - accuracy: 0.9870\n",
            "\n",
            "Epoch 00007: loss improved from 0.04366 to 0.03420, saving model to pneumonia_best_weight.h5\n",
            "Epoch 8/20\n",
            "163/163 [==============================] - 136s 834ms/step - loss: 0.0373 - accuracy: 0.9881\n",
            "\n",
            "Epoch 00008: loss did not improve from 0.03420\n",
            "Epoch 9/20\n",
            "163/163 [==============================] - 136s 834ms/step - loss: 0.0466 - accuracy: 0.9804\n",
            "\n",
            "Epoch 00009: loss did not improve from 0.03420\n",
            "Epoch 10/20\n",
            "163/163 [==============================] - 136s 833ms/step - loss: 0.0503 - accuracy: 0.9810\n",
            "\n",
            "Epoch 00010: loss did not improve from 0.03420\n",
            "Epoch 11/20\n",
            "163/163 [==============================] - 136s 837ms/step - loss: 0.0344 - accuracy: 0.9885\n",
            "\n",
            "Epoch 00011: loss did not improve from 0.03420\n",
            "Epoch 12/20\n",
            "163/163 [==============================] - 136s 833ms/step - loss: 0.0392 - accuracy: 0.9858\n",
            "\n",
            "Epoch 00012: loss did not improve from 0.03420\n"
          ]
        }
      ]
    },
    {
      "cell_type": "code",
      "metadata": {
        "colab": {
          "base_uri": "https://localhost:8080/"
        },
        "id": "YqPb1SWyOQ-U",
        "outputId": "6af1b3a1-3a10-4fc0-f8e1-31fced03d4ca"
      },
      "source": [
        "# load the model & Saving the model\n",
        "\n",
        "model.load_weights('pneumonia_best_weight.h5')\n",
        "model.save('pneumonia_model.h5')"
      ],
      "execution_count": 77,
      "outputs": [
        {
          "output_type": "stream",
          "name": "stderr",
          "text": [
            "/usr/local/lib/python3.7/dist-packages/keras/utils/generic_utils.py:497: CustomMaskWarning: Custom mask layers require a config and must override get_config. When loading, the custom mask layer must be passed to the custom_objects argument.\n",
            "  category=CustomMaskWarning)\n"
          ]
        }
      ]
    },
    {
      "cell_type": "code",
      "metadata": {
        "colab": {
          "base_uri": "https://localhost:8080/"
        },
        "id": "xGoVdt1pfUjm",
        "outputId": "56f11e7b-9ea8-4116-a088-b778455f3807"
      },
      "source": [
        "print(history.history.keys())"
      ],
      "execution_count": 81,
      "outputs": [
        {
          "output_type": "stream",
          "name": "stdout",
          "text": [
            "dict_keys(['loss', 'accuracy'])\n"
          ]
        }
      ]
    },
    {
      "cell_type": "code",
      "metadata": {
        "id": "E7vk5xQ2j8x7"
      },
      "source": [
        ""
      ],
      "execution_count": null,
      "outputs": []
    },
    {
      "cell_type": "markdown",
      "metadata": {
        "id": "9QCfHcw1j3UA"
      },
      "source": [
        "#### Creating a test model"
      ]
    },
    {
      "cell_type": "code",
      "metadata": {
        "colab": {
          "base_uri": "https://localhost:8080/"
        },
        "id": "4Jp0JjH5jSKF",
        "outputId": "b66ea458-8669-481d-bf9d-9970fa413e7a"
      },
      "source": [
        "test_path  #test path"
      ],
      "execution_count": 12,
      "outputs": [
        {
          "output_type": "execute_result",
          "data": {
            "text/plain": [
              "PosixPath('/content/chest_xray/test')"
            ]
          },
          "metadata": {},
          "execution_count": 12
        }
      ]
    },
    {
      "cell_type": "code",
      "metadata": {
        "colab": {
          "base_uri": "https://localhost:8080/"
        },
        "id": "SUdIL68cjb_d",
        "outputId": "393b0500-b133-4fe6-95dd-07a1f95bfb2d"
      },
      "source": [
        "test_img_path=test_path.glob('*/*')   #used to pass the path of sub-files\n",
        "test_img_path"
      ],
      "execution_count": 13,
      "outputs": [
        {
          "output_type": "execute_result",
          "data": {
            "text/plain": [
              "<generator object Path.glob at 0x7fee1f3a6d50>"
            ]
          },
          "metadata": {},
          "execution_count": 13
        }
      ]
    },
    {
      "cell_type": "code",
      "metadata": {
        "colab": {
          "base_uri": "https://localhost:8080/"
        },
        "id": "vq-EbMQIkGxk",
        "outputId": "f24904c4-0975-4a94-9430-c5e07573a862"
      },
      "source": [
        "test_img_path=list(test_img_path)     #viewing image file\n",
        "test_img_path[0]"
      ],
      "execution_count": 14,
      "outputs": [
        {
          "output_type": "execute_result",
          "data": {
            "text/plain": [
              "PosixPath('/content/chest_xray/test/NORMAL/NORMAL2-IM-0229-0001.jpeg')"
            ]
          },
          "metadata": {},
          "execution_count": 14
        }
      ]
    },
    {
      "cell_type": "code",
      "metadata": {
        "colab": {
          "base_uri": "https://localhost:8080/",
          "height": 35
        },
        "id": "70r8XfOekSmZ",
        "outputId": "9503ff0c-0dcc-4dc3-d541-324c80edd82b"
      },
      "source": [
        "test_img_path=list(map(lambda x : str(x),test_img_path))     #converting the path to string\n",
        "test_img_path[0]"
      ],
      "execution_count": 15,
      "outputs": [
        {
          "output_type": "execute_result",
          "data": {
            "application/vnd.google.colaboratory.intrinsic+json": {
              "type": "string"
            },
            "text/plain": [
              "'/content/chest_xray/test/NORMAL/NORMAL2-IM-0229-0001.jpeg'"
            ]
          },
          "metadata": {},
          "execution_count": 15
        }
      ]
    },
    {
      "cell_type": "code",
      "metadata": {
        "colab": {
          "base_uri": "https://localhost:8080/"
        },
        "id": "QcsGAoLhlvWw",
        "outputId": "c54bb8c2-aa54-45fe-ff44-1927d948d71b"
      },
      "source": [
        "test_label=list(map(lambda x : get_label(x), test_img_path))   #creating labels for test path\n",
        "print(test_label[0:3])"
      ],
      "execution_count": 27,
      "outputs": [
        {
          "output_type": "stream",
          "name": "stdout",
          "text": [
            "[0, 0, 0]\n"
          ]
        }
      ]
    },
    {
      "cell_type": "code",
      "metadata": {
        "id": "OWGmAqtuy6-D"
      },
      "source": [
        "# Loading image\n",
        "\n",
        "def load_img(image,label):\n",
        "  image=tf.io.read_file(image)\n",
        "  image=tf.io.decode_jpeg(image,channels=3)\n",
        "  image=tf.image.resize(image,[224,224],method=\"nearest\")\n",
        "  return image,label"
      ],
      "execution_count": 28,
      "outputs": []
    },
    {
      "cell_type": "code",
      "metadata": {
        "id": "oPK_IZVJmagu"
      },
      "source": [
        "img_path=tf.convert_to_tensor(test_img_path)\n",
        "label=tf.convert_to_tensor(test_label)\n",
        "\n",
        "test_dataset=(tf.data.Dataset.from_tensor_slices((img_path,label)).map(load_img).batch(32))\n"
      ],
      "execution_count": 29,
      "outputs": []
    },
    {
      "cell_type": "code",
      "metadata": {
        "colab": {
          "base_uri": "https://localhost:8080/",
          "height": 336
        },
        "id": "zu4C3MGUst8A",
        "outputId": "577482c8-c069-48a1-807b-bb2a67e8cef1"
      },
      "source": [
        "# verify test dataset\n",
        "img,label=next(iter(test_dataset))\n",
        "print(img.shape)\n",
        "print(label.shape)\n",
        "\n",
        "print(inv_label[label[0].numpy()])\n",
        "plt.imshow(img[0].numpy().reshape(224,224,3))"
      ],
      "execution_count": 33,
      "outputs": [
        {
          "output_type": "stream",
          "name": "stdout",
          "text": [
            "(32, 224, 224, 3)\n",
            "(32,)\n",
            "NORMAL\n"
          ]
        },
        {
          "output_type": "execute_result",
          "data": {
            "text/plain": [
              "<matplotlib.image.AxesImage at 0x7fee14a64250>"
            ]
          },
          "metadata": {},
          "execution_count": 33
        },
        {
          "output_type": "display_data",
          "data": {
            "image/png": "[encoded data removed]",
            "text/plain": [
              "<Figure size 432x288 with 1 Axes>"
            ]
          },
          "metadata": {
            "needs_background": "light"
          }
        }
      ]
    },
    {
      "cell_type": "code",
      "metadata": {
        "id": "tlp8dHpsty3c"
      },
      "source": [
        "#test_dataset= tf.data.Dataset.from_tensor_slices(test_img_path,test_label)"
      ],
      "execution_count": 34,
      "outputs": []
    },
    {
      "cell_type": "code",
      "metadata": {
        "id": "m5cFz4g9EtH7"
      },
      "source": [
        "loaded_model=tf.keras.models.load_model('pneumonia_model.h5')"
      ],
      "execution_count": 38,
      "outputs": []
    },
    {
      "cell_type": "code",
      "metadata": {
        "colab": {
          "base_uri": "https://localhost:8080/"
        },
        "id": "Aiz-SNxrvuxZ",
        "outputId": "688058f3-b1ce-423e-b864-7ead1bf2ef76"
      },
      "source": [
        "loss,acc=loaded_model.evaluate(test_dataset)"
      ],
      "execution_count": 39,
      "outputs": [
        {
          "output_type": "stream",
          "name": "stdout",
          "text": [
            "20/20 [==============================] - 86s 4s/step - loss: 5.8043 - accuracy: 0.4904\n"
          ]
        }
      ]
    },
    {
      "cell_type": "code",
      "metadata": {
        "colab": {
          "base_uri": "https://localhost:8080/"
        },
        "id": "a1-4RZ-IFFTg",
        "outputId": "38edc7bf-0d36-4c5e-b185-147f4920bb0a"
      },
      "source": [
        "print(loss)\n",
        "print(acc)"
      ],
      "execution_count": 40,
      "outputs": [
        {
          "output_type": "stream",
          "name": "stdout",
          "text": [
            "5.80427885055542\n",
            "0.49038460850715637\n"
          ]
        }
      ]
    },
    {
      "cell_type": "code",
      "metadata": {
        "id": "QHUEhJTkFeYR"
      },
      "source": [
        ""
      ],
      "execution_count": null,
      "outputs": []
    }
  ]
}